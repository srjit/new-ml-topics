{
 "cells": [
  {
   "cell_type": "code",
   "execution_count": 22,
   "id": "8e3c8f97-6b6a-4776-bbc1-3aaeb2816e05",
   "metadata": {},
   "outputs": [],
   "source": [
    "import os"
   ]
  },
  {
   "cell_type": "code",
   "execution_count": 23,
   "id": "af6a3d37-5372-4893-8550-08e4e4fbf855",
   "metadata": {},
   "outputs": [],
   "source": [
    "from langchain import HuggingFaceHub"
   ]
  },
  {
   "cell_type": "code",
   "execution_count": 24,
   "id": "3d976fc4-ead4-4eda-8688-65f2f44e14af",
   "metadata": {},
   "outputs": [],
   "source": [
    "llm = HuggingFaceHub(repo_id=\"google/flan-t5-base\", model_kwargs={\n",
    "    'temperature':0,\n",
    "    'max_length': 64\n",
    "})"
   ]
  },
  {
   "cell_type": "code",
   "execution_count": 25,
   "id": "433a4729-2f73-4bc2-9452-8ab2aabae187",
   "metadata": {},
   "outputs": [
    {
     "name": "stdout",
     "output_type": "stream",
     "text": [
      "if you are a beginner, you can do a lot of walking.\n"
     ]
    }
   ],
   "source": [
    "prompt = \"What are good fitness tips\"\n",
    "print(llm(prompt))"
   ]
  },
  {
   "cell_type": "markdown",
   "id": "05117d82-65c3-4ac6-acb9-74d748f5696c",
   "metadata": {},
   "source": [
    "## Simple LLM Templating"
   ]
  },
  {
   "cell_type": "code",
   "execution_count": 26,
   "id": "8048e0ad-938a-42da-85c6-a8a75ca1e46d",
   "metadata": {},
   "outputs": [],
   "source": [
    "from langchain import PromptTemplate\n",
    "from langchain.chains import LLMChain"
   ]
  },
  {
   "cell_type": "code",
   "execution_count": 27,
   "id": "ceaf0e15-542b-4e50-b372-3f818289002c",
   "metadata": {},
   "outputs": [],
   "source": [
    "template = \"You're a naming consulatant for new companies, What is a good name for {company} that makes {product}\""
   ]
  },
  {
   "cell_type": "code",
   "execution_count": 28,
   "id": "8b10e2bc-ef53-43e6-ac6f-673feaba91a0",
   "metadata": {},
   "outputs": [],
   "source": [
    "prompt = PromptTemplate.from_template(template)"
   ]
  },
  {
   "cell_type": "code",
   "execution_count": 29,
   "id": "cb57f99c-edc9-4316-9a02-3394f2f33bf3",
   "metadata": {},
   "outputs": [],
   "source": [
    "chain = LLMChain(llm=llm, \n",
    "                 prompt=prompt)"
   ]
  },
  {
   "cell_type": "code",
   "execution_count": 30,
   "id": "ed675830-2d23-44b6-b2ad-8fe5e1a2a045",
   "metadata": {},
   "outputs": [
    {
     "data": {
      "text/plain": [
       "'a sock maker?'"
      ]
     },
     "execution_count": 30,
     "metadata": {},
     "output_type": "execute_result"
    }
   ],
   "source": [
    "chain.run({\"company\": \"ABC Startup\", \"product\": \"socks\"})"
   ]
  },
  {
   "cell_type": "markdown",
   "id": "2b3bb777-a57f-4084-920a-88752938e23e",
   "metadata": {},
   "source": [
    "## SimpleSequentialChain"
   ]
  },
  {
   "cell_type": "code",
   "execution_count": 31,
   "id": "0b198675-c80d-4a61-9a7d-83b7fb9dd315",
   "metadata": {},
   "outputs": [],
   "source": [
    "from langchain.chains import SimpleSequentialChain"
   ]
  },
  {
   "cell_type": "code",
   "execution_count": 35,
   "id": "9b7a1725-fac1-4c10-8435-294bb0c86863",
   "metadata": {},
   "outputs": [],
   "source": [
    "first_prompt = PromptTemplate.from_template(\"What is a good name for a company that makes {product}\")\n",
    "first_chain = LLMChain(llm=llm, prompt=first_prompt)\n",
    "\n",
    "\n",
    "second_prompt = PromptTemplate.from_template(\"Suggest a catchphrase for the following company: {company}\")\n",
    "second_chain = LLMChain(llm=llm, prompt=second_prompt)"
   ]
  },
  {
   "cell_type": "code",
   "execution_count": 37,
   "id": "82b678f3-2ff2-480e-921f-ceea8b5a082d",
   "metadata": {},
   "outputs": [],
   "source": [
    "overall_chain = SimpleSequentialChain(\n",
    "    chains=[\n",
    "        first_chain,\n",
    "        second_chain\n",
    "    ],\n",
    "    verbose=True\n",
    ")"
   ]
  },
  {
   "cell_type": "code",
   "execution_count": 38,
   "id": "1b1d6520-2b89-47d8-8d68-0db118c69bbe",
   "metadata": {},
   "outputs": [
    {
     "name": "stdout",
     "output_type": "stream",
     "text": [
      "\n",
      "\n",
      "\u001b[1m> Entering new SimpleSequentialChain chain...\u001b[0m\n",
      "\u001b[36;1m\u001b[1;3msock\u001b[0m\n",
      "\u001b[33;1m\u001b[1;3msock is a sock\u001b[0m\n",
      "\n",
      "\u001b[1m> Finished chain.\u001b[0m\n"
     ]
    },
    {
     "data": {
      "text/plain": [
       "'sock is a sock'"
      ]
     },
     "execution_count": 38,
     "metadata": {},
     "output_type": "execute_result"
    }
   ],
   "source": [
    "overall_chain.run(\"colorful socks\")"
   ]
  },
  {
   "cell_type": "code",
   "execution_count": 39,
   "id": "cf11f970-19cb-439b-b187-aca90387901a",
   "metadata": {},
   "outputs": [
    {
     "name": "stdout",
     "output_type": "stream",
     "text": [
      "\n",
      "\n",
      "\u001b[1m> Entering new SimpleSequentialChain chain...\u001b[0m\n",
      "\u001b[36;1m\u001b[1;3msailorfish\u001b[0m\n",
      "\u001b[33;1m\u001b[1;3msailorfish\u001b[0m\n",
      "\n",
      "\u001b[1m> Finished chain.\u001b[0m\n"
     ]
    },
    {
     "data": {
      "text/plain": [
       "'sailorfish'"
      ]
     },
     "execution_count": 39,
     "metadata": {},
     "output_type": "execute_result"
    }
   ],
   "source": [
    "overall_chain.run(\"golden fishes\")"
   ]
  },
  {
   "cell_type": "code",
   "execution_count": 1,
   "id": "cf992647-e72c-4584-9048-609c8c6e5db6",
   "metadata": {},
   "outputs": [
    {
     "name": "stdout",
     "output_type": "stream",
     "text": [
      "Collecting wikipedia\n",
      "  Downloading wikipedia-1.4.0.tar.gz (27 kB)\n",
      "  Preparing metadata (setup.py) ... \u001b[?25done\n",
      "\u001b[?25hRequirement already satisfied: beautifulsoup4 in /Users/sresreek1/venvs/llms/lib/python3.10/site-packages (from wikipedia) (4.12.3)\n",
      "Requirement already satisfied: requests<3.0.0,>=2.0.0 in /Users/sresreek1/venvs/llms/lib/python3.10/site-packages (from wikipedia) (2.31.0)\n",
      "Requirement already satisfied: charset-normalizer<4,>=2 in /Users/sresreek1/venvs/llms/lib/python3.10/site-packages (from requests<3.0.0,>=2.0.0->wikipedia) (3.3.2)\n",
      "Requirement already satisfied: idna<4,>=2.5 in /Users/sresreek1/venvs/llms/lib/python3.10/site-packages (from requests<3.0.0,>=2.0.0->wikipedia) (3.7)\n",
      "Requirement already satisfied: urllib3<3,>=1.21.1 in /Users/sresreek1/venvs/llms/lib/python3.10/site-packages (from requests<3.0.0,>=2.0.0->wikipedia) (2.2.1)\n",
      "Requirement already satisfied: certifi>=2017.4.17 in /Users/sresreek1/venvs/llms/lib/python3.10/site-packages (from requests<3.0.0,>=2.0.0->wikipedia) (2024.2.2)\n",
      "Requirement already satisfied: soupsieve>1.2 in /Users/sresreek1/venvs/llms/lib/python3.10/site-packages (from beautifulsoup4->wikipedia) (2.5)\n",
      "Building wheels for collected packages: wikipedia\n",
      "  Building wheel for wikipedia (setup.py) ... \u001b[?done\n",
      "\u001b[?25h  Created wheel for wikipedia: filename=wikipedia-1.4.0-py3-none-any.whl size=11695 sha256=c2d1c69ef72573e9ffa26e7f12d7e7d2702fcdb4dc24d6adae9fa91e610ed17c\n",
      "  Stored in directory: /Users/sresreek1/Library/Caches/pip/wheels/5e/b6/c5/93f3dec388ae76edc830cb42901bb0232504dfc0df02fc50de\n",
      "Successfully built wikipedia\n",
      "Installing collected packages: wikipedia\n",
      "Successfully installed wikipedia-1.4.0\n",
      "Note: you may need to restart the kernel to use updated packages.\n"
     ]
    }
   ],
   "source": [
    "pip install wikipedia"
   ]
  },
  {
   "cell_type": "code",
   "execution_count": 2,
   "id": "95d66fb3-cfb6-4f55-80d3-3e67b5a4c848",
   "metadata": {},
   "outputs": [
    {
     "name": "stdout",
     "output_type": "stream",
     "text": [
      "Collecting numexpr\n",
      "  Downloading numexpr-2.10.2-cp310-cp310-macosx_11_0_arm64.whl.metadata (8.1 kB)\n",
      "Requirement already satisfied: numpy>=1.23.0 in /Users/sresreek1/venvs/llms/lib/python3.10/site-packages (from numexpr) (1.26.4)\n",
      "Downloading numexpr-2.10.2-cp310-cp310-macosx_11_0_arm64.whl (134 kB)\n",
      "Installing collected packages: numexpr\n",
      "Successfully installed numexpr-2.10.2\n",
      "Note: you may need to restart the kernel to use updated packages.\n"
     ]
    }
   ],
   "source": [
    "pip install numexpr"
   ]
  },
  {
   "cell_type": "code",
   "execution_count": null,
   "id": "c8e9df17-5687-45de-b8f3-391c283f4ac3",
   "metadata": {},
   "outputs": [],
   "source": []
  }
 ],
 "metadata": {
  "kernelspec": {
   "display_name": "llms",
   "language": "python",
   "name": "llms"
  },
  "language_info": {
   "codemirror_mode": {
    "name": "ipython",
    "version": 3
   },
   "file_extension": ".py",
   "mimetype": "text/x-python",
   "name": "python",
   "nbconvert_exporter": "python",
   "pygments_lexer": "ipython3",
   "version": "3.10.5"
  }
 },
 "nbformat": 4,
 "nbformat_minor": 5
}
